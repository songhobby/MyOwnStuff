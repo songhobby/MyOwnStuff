{
 "cells": [
  {
   "cell_type": "code",
   "execution_count": 6,
   "metadata": {
    "collapsed": true
   },
   "outputs": [],
   "source": [
    "import csv\n",
    "import numpy as np\n",
    "import matplotlib\n",
    "import matplotlib.pyplot as plt\n"
   ]
  },
  {
   "cell_type": "code",
   "execution_count": 7,
   "metadata": {
    "scrolled": true
   },
   "outputs": [
    {
     "name": "stdout",
     "output_type": "stream",
     "text": [
      "['0' '0' '11' '0' '16' '0' '0' '0' '4' '0' '7' '8' '3' '0' '0' '0' '0' '0'\n",
      " '9' '7' '0' '0' '0' '0' '0' '0' '16' '0' '0' '0' '0' '0' '0' '1' '14'\n",
      " '11' '11' '11' '0' '0' '0' '0' '0' '7' '0' '0' '0' '0' '0' '0' '9' '2'\n",
      " '4' '0' '0' '0' '0' '0' '0' '0' '3' '5' '0' '0']\n",
      "(111, 64)\n",
      "<U2\n",
      "[['0' '0' '11' '0' '16' '0' '0' '0']\n",
      " ['4' '0' '7' '8' '3' '0' '0' '0']\n",
      " ['0' '0' '9' '7' '0' '0' '0' '0']\n",
      " ['0' '0' '16' '0' '0' '0' '0' '0']\n",
      " ['0' '1' '14' '11' '11' '11' '0' '0']\n",
      " ['0' '0' '0' '7' '0' '0' '0' '0']\n",
      " ['0' '0' '9' '2' '4' '0' '0' '0']\n",
      " ['0' '0' '0' '0' '3' '5' '0' '0']]\n",
      "[[0.     0.     0.6875 0.     1.     0.     0.     0.    ]\n",
      " [0.25   0.     0.4375 0.5    0.1875 0.     0.     0.    ]\n",
      " [0.     0.     0.5625 0.4375 0.     0.     0.     0.    ]\n",
      " [0.     0.     1.     0.     0.     0.     0.     0.    ]\n",
      " [0.     0.0625 0.875  0.6875 0.6875 0.6875 0.     0.    ]\n",
      " [0.     0.     0.     0.4375 0.     0.     0.     0.    ]\n",
      " [0.     0.     0.5625 0.125  0.25   0.     0.     0.    ]\n",
      " [0.     0.     0.     0.     0.1875 0.3125 0.     0.    ]]\n"
     ]
    },
    {
     "data": {
      "image/png": "[encoded data removed]",
      "text/plain": [
       "<matplotlib.figure.Figure at 0x7f130b219048>"
      ]
     },
     "metadata": {},
     "output_type": "display_data"
    }
   ],
   "source": [
    "with open('knn/data1.csv', 'r') as datafile:\n",
    "    data = np.array(list(csv.reader(datafile)))\n",
    "    print (data[0])\n",
    "    print (data.shape)\n",
    "    print(data.dtype)\n",
    "    print(data[0].reshape(8,8))\n",
    "    print(np.float32(data[0].reshape(8,8)) / np.float32(16))\n",
    "    plt.imshow(np.float32(data[4].reshape(8,8)) / np.float32(16), cmap=matplotlib.cm.Greys)\n",
    "    plt.show()"
   ]
  },
  {
   "cell_type": "code",
   "execution_count": 8,
   "metadata": {},
   "outputs": [
    {
     "name": "stdout",
     "output_type": "stream",
     "text": [
      "k =   1   accuracy is 0.7387387387387387\n",
      "k =   2   accuracy is 0.7567567567567568\n",
      "k =   3   accuracy is 0.7477477477477478\n",
      "k =   4   accuracy is 0.8108108108108109\n",
      "k =   5   accuracy is 0.8198198198198198\n",
      "k =   6   accuracy is 0.7747747747747747\n",
      "k =   7   accuracy is 0.7567567567567568\n",
      "k =   8   accuracy is 0.8378378378378378\n",
      "k =   9   accuracy is 0.7567567567567568\n",
      "k =  10   accuracy is 0.8018018018018018\n",
      "k =  11   accuracy is 0.8378378378378378\n",
      "k =  12   accuracy is 0.8378378378378378\n",
      "k =  13   accuracy is 0.8468468468468469\n",
      "k =  14   accuracy is 0.8468468468468469\n",
      "k =  15   accuracy is 0.8378378378378378\n",
      "k =  16   accuracy is 0.8378378378378378\n",
      "k =  17   accuracy is 0.8468468468468469\n",
      "k =  18   accuracy is 0.8378378378378378\n",
      "k =  19   accuracy is 0.8468468468468469\n",
      "k =  20   accuracy is 0.8648648648648649\n",
      "k =  21   accuracy is 0.8558558558558559\n",
      "k =  22   accuracy is 0.8738738738738738\n",
      "k =  23   accuracy is 0.8648648648648649\n",
      "k =  24   accuracy is 0.8738738738738738\n",
      "k =  25   accuracy is 0.8648648648648649\n",
      "k =  26   accuracy is 0.8738738738738738\n",
      "k =  27   accuracy is 0.8648648648648649\n",
      "k =  28   accuracy is 0.8738738738738738\n",
      "k =  29   accuracy is 0.8558558558558559\n",
      "k =  30   accuracy is 0.8648648648648649\n",
      "[0.73873874 0.75675676 0.74774775 0.81081081 0.81981982 0.77477477\n",
      " 0.75675676 0.83783784 0.75675676 0.8018018  0.83783784 0.83783784\n",
      " 0.84684685 0.84684685 0.83783784 0.83783784 0.84684685 0.83783784\n",
      " 0.84684685 0.86486486 0.85585586 0.87387387 0.86486486 0.87387387\n",
      " 0.86486486 0.87387387 0.86486486 0.87387387 0.85585586 0.86486486]\n"
     ]
    },
    {
     "data": {
      "image/png": "[encoded data removed]",
      "text/plain": [
       "<matplotlib.figure.Figure at 0x7f134143d828>"
      ]
     },
     "metadata": {},
     "output_type": "display_data"
    }
   ],
   "source": [
    "def retrieve_train_data(ith_fold):\n",
    "    with open('knn/data'+str(ith_fold)+'.csv', 'r') as data_file:\n",
    "        data = np.int16(np.array(list(csv.reader(data_file))))\n",
    "    with open('knn/labels'+str(ith_fold)+'.csv', 'r') as label_file:\n",
    "        label = np.int16(np.array(list(csv.reader(label_file))).ravel())\n",
    "        return data, label\n",
    "def knn(data_train, label_train, k, x):\n",
    "    euclidean_dist = np.empty(len(data_train), \\\n",
    "                              dtype=[('x',np.int16),('y',np.int16)])\n",
    "    for item in range(len(data_train)):\n",
    "        entry = (np.int16(data_train[item]) - np.int16(x))**2\n",
    "        entry = (entry.sum(), label_train[item])\n",
    "        euclidean_dist[item]=entry\n",
    "    euclidean_dist.sort(order='x')\n",
    "    count=0\n",
    "    for i in range(k):\n",
    "        if (euclidean_dist[i][1] == 5):\n",
    "            count += 1\n",
    "    if (count >= (k - count)):\n",
    "        return 5\n",
    "    else:\n",
    "        return 6\n",
    "\n",
    "if __name__=='__main__':\n",
    "    k_max = 30\n",
    "    number_of_folds = 10\n",
    "    acc=np.empty(k_max)\n",
    "    for k in range(k_max):\n",
    "        data_train=np.empty((0,64),dtype=np.int16)\n",
    "        label_train=np.empty((0),dtype=np.int16)\n",
    "        k+=1\n",
    "        for fold in range(number_of_folds):\n",
    "            fold+=1\n",
    "            if (fold != k):\n",
    "                data_train_fold,label_train_fold=retrieve_train_data(fold)\n",
    "                data_train=np.concatenate((data_train, data_train_fold))\n",
    "                label_train=np.concatenate((label_train, label_train_fold))\n",
    "            else:\n",
    "                data_test,label_test=retrieve_train_data(fold)\n",
    "        sum=0\n",
    "        count=0\n",
    "        for i in range(len(data_test)):\n",
    "            sum+=1\n",
    "            if (knn(data_train,label_train,k,data_test[i])==label_test[i]):\n",
    "                count+=1\n",
    "        acc[k-1]=count / sum\n",
    "        print('k = {:3d}   accuracy is {}'.format(k,acc[k-1]))\n",
    "    print(acc)\n",
    "    plt.plot(range(1,k_max+1,1), acc)\n",
    "    plt.show()\n",
    "        \n"
   ]
  },
  {
   "cell_type": "code",
   "execution_count": 9,
   "metadata": {},
   "outputs": [
    {
     "name": "stdout",
     "output_type": "stream",
     "text": [
      "[6 5 6 5 6 6 6 6 5 6 6 5 5 6 6 6 6 5 5 5 6 6 6 5 6 6 6 5 5 5 5 6 5 5 5 5 5\n",
      " 5 5 6 6 5 6 5 5 6 5 6 5 6 5 6 5 6 6 5 5 6 5 5 6 6 5 5 5 5 6 5 6 6 5 6 5 5\n",
      " 5 6 6 5 6 6 6 5 5 6 6 5 5 6 6 5 6 6 6 6 6 5 5 6 6 6 6 6 5 6 6 6 5 5 5 6 5]\n"
     ]
    }
   ],
   "source": [
    "data_train_1, label_train_1 = retrieve_train_data(1)\n",
    "print(label_train_1)"
   ]
  },
  {
   "cell_type": "code",
   "execution_count": 10,
   "metadata": {},
   "outputs": [
    {
     "data": {
      "text/plain": [
       "6"
      ]
     },
     "execution_count": 10,
     "metadata": {},
     "output_type": "execute_result"
    }
   ],
   "source": [
    "knn(data_train_1, label_train_1, 1, data_train_1[109])"
   ]
  },
  {
   "cell_type": "code",
   "execution_count": null,
   "metadata": {
    "collapsed": true
   },
   "outputs": [],
   "source": []
  },
  {
   "cell_type": "code",
   "execution_count": null,
   "metadata": {
    "collapsed": true
   },
   "outputs": [],
   "source": []
  },
  {
   "cell_type": "code",
   "execution_count": null,
   "metadata": {
    "collapsed": true
   },
   "outputs": [],
   "source": []
  }
 ],
 "metadata": {
  "kernelspec": {
   "display_name": "Python 3",
   "language": "python",
   "name": "python3"
  },
  "language_info": {
   "codemirror_mode": {
    "name": "ipython",
    "version": 3
   },
   "file_extension": ".py",
   "mimetype": "text/x-python",
   "name": "python",
   "nbconvert_exporter": "python",
   "pygments_lexer": "ipython3",
   "version": "3.6.4"
  }
 },
 "nbformat": 4,
 "nbformat_minor": 2
}
