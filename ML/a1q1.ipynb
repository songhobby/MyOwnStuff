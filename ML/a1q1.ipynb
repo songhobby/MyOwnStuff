{
 "cells": [
  {
   "cell_type": "code",
   "execution_count": 1,
   "metadata": {
    "collapsed": true
   },
   "outputs": [],
   "source": [
    "import numpy as np\n",
    "import csv\n",
    "import matplotlib.pyplot as plt\n",
    "from collections import Counter\n",
    "import random"
   ]
  },
  {
   "cell_type": "code",
   "execution_count": 2,
   "metadata": {},
   "outputs": [
    {
     "name": "stdout",
     "output_type": "stream",
     "text": [
      "[0.7387387387387387, 0.7378378378378379, 0.7882882882882883, 0.79009009009009, 0.7900900900900901, 0.7792792792792793, 0.799099099099099, 0.7945945945945946, 0.8045045045045045, 0.8018018018018017, 0.809009009009009, 0.8009009009009009, 0.8018018018018017, 0.7945945945945946, 0.8054054054054054, 0.8018018018018018, 0.799099099099099, 0.7954954954954955, 0.8117117117117116, 0.8081081081081081, 0.8018018018018017, 0.8063063063063064, 0.8153153153153154, 0.8099099099099097, 0.80990990990991, 0.8081081081081081, 0.80990990990991, 0.8036036036036036, 0.8072072072072073, 0.8063063063063064]\n"
     ]
    },
    {
     "data": {
      "image/png": "[encoded data removed]",
      "text/plain": [
       "<matplotlib.figure.Figure at 0x7fc1d5a13ba8>"
      ]
     },
     "metadata": {},
     "output_type": "display_data"
    }
   ],
   "source": [
    "def retrieve_train_data(i):\n",
    "    dataset_lst = [1,2,3,4,5,6,7,8,9,10]\n",
    "    dataset_lst.remove(i)\n",
    "    train_data = []\n",
    "    train_label = []\n",
    "    for dataset in dataset_lst:\n",
    "        with open('knn/data'+str(dataset)+'.csv', 'r') as data_file:\n",
    "            data = list(csv.reader(data_file))\n",
    "            for i in range(len(data)):\n",
    "                data[i] = [int(j) for j in data[i]] \n",
    "            train_data += [np.array(x) for x in data]\n",
    "        with open('knn/labels'+str(dataset)+'.csv','r') as label_file:\n",
    "            label = list(csv.reader(label_file))\n",
    "            train_label += [y[0] for y in label]\n",
    "    return train_data,train_label\n",
    "\n",
    "def retrieve_test_data(index):\n",
    "    with open('knn/data'+str(index)+'.csv', 'r') as data_file:\n",
    "        test_data = list(csv.reader(data_file))\n",
    "        for i in range(len(test_data)):\n",
    "            test_data[i] = [int(j) for j in test_data[i]]\n",
    "        test_data = [np.array(x) for x in test_data]\n",
    "    with open('knn/labels'+str(index)+'.csv','r') as label_file:\n",
    "        test_label = list(csv.reader(label_file))\n",
    "        test_label = [y[0] for y in test_label]\n",
    "    return test_data,test_label\n",
    "\n",
    "def knn_test(train_data,train_label, test_data, test_label,sorted_eu_index_lst,k):\n",
    "    correct_count = 0\n",
    "    for i in range(len(test_data)):\n",
    "        td = test_data[i]\n",
    "        knn = [train_label[i] for i in sorted_eu_index_lst[i][:k]] \n",
    "        \n",
    "        count_label = Counter(knn).most_common(2)\n",
    "        total_num = len(knn)\n",
    "        if count_label[0][1]/total_num <= 0.5:\n",
    "            mode = random.choice([count_label[0][0],count_label[1][0]])\n",
    "        else:\n",
    "            mode = count_label[0][0]\n",
    "        \n",
    "        if test_label[i] == mode:\n",
    "            correct_count += 1\n",
    "    return correct_count/len(test_data)\n",
    "\n",
    "def data_preprocess(num_of_splits):\n",
    "    train_dataset = []\n",
    "    train_labelset = []\n",
    "    test_dataset = []\n",
    "    test_labelset = []\n",
    "    eucli_prepro_lst = []\n",
    "    for i in range(1, num_of_splits+1):\n",
    "        #load data\n",
    "        test_data,test_label = retrieve_test_data(i)\n",
    "        train_data, train_label = retrieve_train_data(i)\n",
    "        train_dataset.append(train_data)\n",
    "        train_labelset.append(train_label)\n",
    "        test_dataset.append(test_data)\n",
    "        test_labelset.append(test_label)\n",
    "        sorted_eu_index_lst = []\n",
    "        for i in range(len(test_data)):\n",
    "            td = test_data[i]\n",
    "            euclidean_lst = []\n",
    "            for d in train_data:\n",
    "                euclidean_lst.append(np.linalg.norm(td - d))\n",
    "            sorted_eu_index_lst.append(sorted(range(len(euclidean_lst)), key=lambda i: euclidean_lst[i]))\n",
    "        eucli_prepro_lst.append(sorted_eu_index_lst)\n",
    "    return train_dataset,train_labelset,test_dataset,test_labelset,eucli_prepro_lst\n",
    "\n",
    "def cross_validation(max_k, num_of_splits):\n",
    "    train_dataset,train_labelset,test_dataset,test_labelset,eucli_prepro_lst=data_preprocess(num_of_splits)\n",
    "    ave_acc_lst = []\n",
    "    for k in range(1, max_k+1):\n",
    "        acc = []\n",
    "        for i in range(num_of_splits):        \n",
    "            #test\n",
    "            accuracy = knn_test(train_dataset[i],train_labelset[i], test_dataset[i], test_labelset[i],eucli_prepro_lst[i],k)\n",
    "            acc.append(accuracy)\n",
    "        ave_acc_lst.append(np.mean(acc))\n",
    "    print(ave_acc_lst)\n",
    "    plt.plot(range(max_k),ave_acc_lst)\n",
    "    plt.show()\n",
    "    \n",
    "if __name__=='__main__': \n",
    "    max_k=30\n",
    "    num_of_splits=10\n",
    "    cross_validation(max_k, num_of_splits)"
   ]
  },
  {
   "cell_type": "code",
   "execution_count": null,
   "metadata": {
    "collapsed": true
   },
   "outputs": [],
   "source": []
  },
  {
   "cell_type": "code",
   "execution_count": null,
   "metadata": {
    "collapsed": true
   },
   "outputs": [],
   "source": []
  },
  {
   "cell_type": "code",
   "execution_count": null,
   "metadata": {
    "collapsed": true
   },
   "outputs": [],
   "source": []
  },
  {
   "cell_type": "code",
   "execution_count": null,
   "metadata": {
    "collapsed": true
   },
   "outputs": [],
   "source": []
  }
 ],
 "metadata": {
  "kernelspec": {
   "display_name": "Python 3",
   "language": "python",
   "name": "python3"
  },
  "language_info": {
   "codemirror_mode": {
    "name": "ipython",
    "version": 3
   },
   "file_extension": ".py",
   "mimetype": "text/x-python",
   "name": "python",
   "nbconvert_exporter": "python",
   "pygments_lexer": "ipython3",
   "version": "3.6.4"
  }
 },
 "nbformat": 4,
 "nbformat_minor": 2
}
