{
 "cells": [
  {
   "cell_type": "code",
   "execution_count": 233,
   "metadata": {},
   "outputs": [],
   "source": [
    "import csv\n",
    "import numpy as np\n",
    "import matplotlib\n",
    "import matplotlib.pyplot as plt\n"
   ]
  },
  {
   "cell_type": "code",
   "execution_count": 234,
   "metadata": {
    "scrolled": true
   },
   "outputs": [
    {
     "name": "stdout",
     "output_type": "stream",
     "text": [
      "['0' '0' '11' '0' '16' '0' '0' '0' '4' '0' '7' '8' '3' '0' '0' '0' '0' '0'\n",
      " '9' '7' '0' '0' '0' '0' '0' '0' '16' '0' '0' '0' '0' '0' '0' '1' '14'\n",
      " '11' '11' '11' '0' '0' '0' '0' '0' '7' '0' '0' '0' '0' '0' '0' '9' '2'\n",
      " '4' '0' '0' '0' '0' '0' '0' '0' '3' '5' '0' '0']\n",
      "(111, 64)\n",
      "<U2\n",
      "[['0' '0' '11' '0' '16' '0' '0' '0']\n",
      " ['4' '0' '7' '8' '3' '0' '0' '0']\n",
      " ['0' '0' '9' '7' '0' '0' '0' '0']\n",
      " ['0' '0' '16' '0' '0' '0' '0' '0']\n",
      " ['0' '1' '14' '11' '11' '11' '0' '0']\n",
      " ['0' '0' '0' '7' '0' '0' '0' '0']\n",
      " ['0' '0' '9' '2' '4' '0' '0' '0']\n",
      " ['0' '0' '0' '0' '3' '5' '0' '0']]\n",
      "[[0.     0.     0.6875 0.     1.     0.     0.     0.    ]\n",
      " [0.25   0.     0.4375 0.5    0.1875 0.     0.     0.    ]\n",
      " [0.     0.     0.5625 0.4375 0.     0.     0.     0.    ]\n",
      " [0.     0.     1.     0.     0.     0.     0.     0.    ]\n",
      " [0.     0.0625 0.875  0.6875 0.6875 0.6875 0.     0.    ]\n",
      " [0.     0.     0.     0.4375 0.     0.     0.     0.    ]\n",
      " [0.     0.     0.5625 0.125  0.25   0.     0.     0.    ]\n",
      " [0.     0.     0.     0.     0.1875 0.3125 0.     0.    ]]\n"
     ]
    },
    {
     "data": {
      "image/png": "[encoded data removed]",
      "text/plain": [
       "<matplotlib.figure.Figure at 0x7ff7148d3f28>"
      ]
     },
     "metadata": {},
     "output_type": "display_data"
    }
   ],
   "source": [
    "with open('knn/data1.csv', 'r') as datafile:\n",
    "    data = np.array(list(csv.reader(datafile)))\n",
    "    print (data[0])\n",
    "    print (data.shape)\n",
    "    print(data.dtype)\n",
    "    print(data[0].reshape(8,8))\n",
    "    print(np.float32(data[0].reshape(8,8)) / np.float32(16))\n",
    "    plt.imshow(np.float32(data[4].reshape(8,8)) / np.float32(16), cmap=matplotlib.cm.Greys)\n",
    "    plt.show()"
   ]
  },
  {
   "cell_type": "code",
   "execution_count": 241,
   "metadata": {},
   "outputs": [],
   "source": [
    "def retrieve_train_data(ith_fold):\n",
    "    with open('knn/data'+str(ith_fold)+'.csv', 'r') as data_file:\n",
    "        data = np.array(list(csv.reader(data_file)))\n",
    "    with open('knn/labels'+str(ith_fold)+'.csv', 'r') as label_file:\n",
    "        label = np.array(list(csv.reader(label_file))).ravel()\n",
    "        return data, label\n",
    "def knn(data_train, label_train, k, x):\n",
    "    euclidean_dist = np.empty(len(data_train), \\\n",
    "                              dtype=[('x',np.int16),('y',np.int16)])\n",
    "    for item in range(len(data_train)):\n",
    "        entry = (np.int16(data_train[item]) - np.int16(x))**2\n",
    "        entry = (entry.sum(), label_train[item])\n",
    "        euclidean_dist[item]=entry\n",
    "    euclidean_dist.sort(order='x')\n",
    "    count=0\n",
    "    for i in range(k):\n",
    "        if (euclidean_dist[i][1] == 5):\n",
    "            print(euclidean_dist[i][1])\n",
    "            count += 1\n",
    "    if (count >= (k - count)):\n",
    "        return 5\n",
    "    else:\n",
    "        return 6\n"
   ]
  },
  {
   "cell_type": "code",
   "execution_count": 242,
   "metadata": {},
   "outputs": [
    {
     "name": "stdout",
     "output_type": "stream",
     "text": [
      "['6' '5' '6' '5' '6' '6' '6' '6' '5' '6' '6' '5' '5' '6' '6' '6' '6' '5'\n",
      " '5' '5' '6' '6' '6' '5' '6' '6' '6' '5' '5' '5' '5' '6' '5' '5' '5' '5'\n",
      " '5' '5' '5' '6' '6' '5' '6' '5' '5' '6' '5' '6' '5' '6' '5' '6' '5' '6'\n",
      " '6' '5' '5' '6' '5' '5' '6' '6' '5' '5' '5' '5' '6' '5' '6' '6' '5' '6'\n",
      " '5' '5' '5' '6' '6' '5' '6' '6' '6' '5' '5' '6' '6' '5' '5' '6' '6' '5'\n",
      " '6' '6' '6' '6' '6' '5' '5' '6' '6' '6' '6' '6' '5' '6' '6' '6' '5' '5'\n",
      " '5' '6' '5']\n"
     ]
    }
   ],
   "source": [
    "data_train_1, label_train_1 = retrieve_train_data(1)\n",
    "print(label_train_1)"
   ]
  },
  {
   "cell_type": "code",
   "execution_count": 252,
   "metadata": {},
   "outputs": [
    {
     "data": {
      "text/plain": [
       "6"
      ]
     },
     "execution_count": 252,
     "metadata": {},
     "output_type": "execute_result"
    }
   ],
   "source": [
    "knn(data_train_1, label_train_1, 1, data_train_1[109])"
   ]
  },
  {
   "cell_type": "code",
   "execution_count": null,
   "metadata": {},
   "outputs": [],
   "source": []
  },
  {
   "cell_type": "code",
   "execution_count": null,
   "metadata": {
    "collapsed": true
   },
   "outputs": [],
   "source": []
  },
  {
   "cell_type": "code",
   "execution_count": null,
   "metadata": {
    "collapsed": true
   },
   "outputs": [],
   "source": []
  }
 ],
 "metadata": {
  "kernelspec": {
   "display_name": "Python 3",
   "language": "python",
   "name": "python3"
  },
  "language_info": {
   "codemirror_mode": {
    "name": "ipython",
    "version": 3
   },
   "file_extension": ".py",
   "mimetype": "text/x-python",
   "name": "python",
   "nbconvert_exporter": "python",
   "pygments_lexer": "ipython3",
   "version": "3.6.4"
  }
 },
 "nbformat": 4,
 "nbformat_minor": 2
}
