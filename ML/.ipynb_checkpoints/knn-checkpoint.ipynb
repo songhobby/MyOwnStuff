{
 "cells": [
  {
   "cell_type": "code",
   "execution_count": null,
   "metadata": {
    "collapsed": true
   },
   "outputs": [],
   "source": [
    "import csv\n",
    "import numpy as np\n",
    "import matplotlib\n",
    "import matplotlib.pyplot as plt\n"
   ]
  },
  {
   "cell_type": "code",
   "execution_count": null,
   "metadata": {
    "scrolled": true
   },
   "outputs": [],
   "source": [
    "with open('knn/data1.csv', 'r') as datafile:\n",
    "    data = np.array(list(csv.reader(datafile)))\n",
    "    print (data[0])\n",
    "    print (data.shape)\n",
    "    print(data.dtype)\n",
    "    print(data[0].reshape(8,8))\n",
    "    print(np.float32(data[0].reshape(8,8)) / np.float32(16))\n",
    "    plt.imshow(np.float32(data[4].reshape(8,8)) / np.float32(16), cmap=matplotlib.cm.Greys)\n",
    "    plt.show()"
   ]
  },
  {
   "cell_type": "code",
   "execution_count": null,
   "metadata": {},
   "outputs": [],
   "source": [
    "def retrieve_train_data(ith_fold):\n",
    "    with open('knn/data'+str(ith_fold)+'.csv', 'r') as data_file:\n",
    "        data = np.int16(np.array(list(csv.reader(data_file))))\n",
    "    with open('knn/labels'+str(ith_fold)+'.csv', 'r') as label_file:\n",
    "        label = np.int16(np.array(list(csv.reader(label_file))).ravel())\n",
    "        return data, label\n",
    "def knn(data_train, label_train, k, x):\n",
    "    euclidean_dist = np.empty(len(data_train), \\\n",
    "                              dtype=[('x',np.int16),('y',np.int16)])\n",
    "    for item in range(len(data_train)):\n",
    "        entry = (np.int16(data_train[item]) - np.int16(x))**2\n",
    "        entry = (entry.sum(), label_train[item])\n",
    "        euclidean_dist[item]=entry\n",
    "    euclidean_dist.sort(order='x')\n",
    "    count=0\n",
    "    for i in range(k):\n",
    "        if (euclidean_dist[i][1] == 5):\n",
    "            count += 1\n",
    "    if (count >= (k - count)):\n",
    "        return 5\n",
    "    else:\n",
    "        return 6\n",
    "\n",
    "if __name__=='__main__':\n",
    "    k_max = 30\n",
    "    number_of_folds = 10\n",
    "    acc=np.empty(k_max)\n",
    "    for k in range(k_max):\n",
    "        data_train=np.empty((0,64),dtype=np.int16)\n",
    "        label_train=np.empty((0),dtype=np.int16)\n",
    "        k+=1\n",
    "        for fold in range(number_of_folds):\n",
    "            fold+=1\n",
    "            if (fold != k):\n",
    "                data_train_fold,label_train_fold=retrieve_train_data(fold)\n",
    "                data_train=np.concatenate((data_train, data_train_fold))\n",
    "                label_train=np.concatenate((label_train, label_train_fold))\n",
    "            else:\n",
    "                data_test,label_test=retrieve_train_data(fold)\n",
    "        sum=0\n",
    "        count=0\n",
    "        for i in range(len(data_test)):\n",
    "            sum+=1\n",
    "            if (knn(data_train,label_train,k,data_test[i])==label_test[i]):\n",
    "                count+=1\n",
    "        acc[k-1]=count / sum\n",
    "        print('k = {:3d}   accuracy is {}'.format(k,acc[k-1]))\n",
    "    print(acc)\n",
    "    plt.plot(range(1,k_max+1,1), acc)\n",
    "    plt.show()\n",
    "        \n"
   ]
  },
  {
   "cell_type": "code",
   "execution_count": null,
   "metadata": {
    "collapsed": true
   },
   "outputs": [],
   "source": [
    "data_train_1, label_train_1 = retrieve_train_data(1)\n",
    "print(label_train_1)"
   ]
  },
  {
   "cell_type": "code",
   "execution_count": null,
   "metadata": {
    "collapsed": true
   },
   "outputs": [],
   "source": [
    "knn(data_train_1, label_train_1, 1, data_train_1[109])"
   ]
  },
  {
   "cell_type": "code",
   "execution_count": null,
   "metadata": {
    "collapsed": true
   },
   "outputs": [],
   "source": []
  },
  {
   "cell_type": "code",
   "execution_count": null,
   "metadata": {
    "collapsed": true
   },
   "outputs": [],
   "source": []
  },
  {
   "cell_type": "code",
   "execution_count": null,
   "metadata": {
    "collapsed": true
   },
   "outputs": [],
   "source": []
  }
 ],
 "metadata": {
  "kernelspec": {
   "display_name": "Python 3",
   "language": "python",
   "name": "python3"
  }
 },
 "nbformat": 4,
 "nbformat_minor": 2
}
