{
 "cells": [
  {
   "cell_type": "code",
   "execution_count": 61,
   "metadata": {},
   "outputs": [],
   "source": [
    "import numpy as np\n",
    "import matplotlib.pyplot as plt\n",
    "import csv"
   ]
  },
  {
   "cell_type": "code",
   "execution_count": 62,
   "metadata": {},
   "outputs": [
    {
     "data": {
      "image/png": "[encoded data removed]",
      "text/plain": [
       "<matplotlib.figure.Figure at 0x7fd3279e3a58>"
      ]
     },
     "metadata": {},
     "output_type": "display_data"
    }
   ],
   "source": [
    "def retrieve_train_data(ith_fold):\n",
    "    with open('regression/fData'+str(ith_fold)+'.csv', 'r') as data_file:\n",
    "        data = np.float32(np.insert(np.array(list(csv.reader(data_file))),0,1,axis=1))\n",
    "    with open('regression/fLabels'+str(ith_fold)+'.csv', 'r') as label_file:\n",
    "        label = np.float32(np.array(list(csv.reader(label_file))).ravel())\n",
    "        return data, label\n",
    "\n",
    "def regression(data_train,label_train,_lambda):\n",
    "    return (np.linalg.inv(data_train.transpose().dot(data_train)+_lambda*np.identity(3)))\\\n",
    ".dot(data_train.transpose()).dot(label_train)\n",
    "\n",
    "if __name__=='__main__':\n",
    "    num_folds=10\n",
    "    data_fold=20\n",
    "    fold_lst=np.arange(1,num_folds+1)\n",
    "    lambda_lst=np.arange(0,4.1,0.1)\n",
    "    all_data=np.empty((0,3),dtype=np.float32)\n",
    "    all_label=np.empty((0),dtype=np.float32)\n",
    "    acc=[]\n",
    "    for i in fold_lst:\n",
    "        data,label=retrieve_train_data(i)\n",
    "        all_data=np.concatenate((all_data,data),axis=0)\n",
    "        all_label=np.append(all_label,label)\n",
    "    for _lambda in lambda_lst:\n",
    "        acc_each=[]\n",
    "        for i in fold_lst:\n",
    "            data_train=np.delete(all_data,np.arange(data_fold)+(i-1)*data_fold,axis=0)\n",
    "            label_train=np.delete(all_label,np.arange(data_fold)+(i-1)*data_fold,axis=0)\n",
    "            data_test=all_data[(i-1)*data_fold:data_fold*i]\n",
    "            label_test=all_label[(i-1)*data_fold:data_fold*i]\n",
    "            w=regression(data_train,label_train,_lambda)\n",
    "            #test\n",
    "            acc_each.append(np.linalg.norm((data_test.dot(w)-label_test)))\n",
    "        acc.append(np.mean(acc_each))\n",
    "    plt.plot(lambda_lst,acc)\n",
    "    plt.show()"
   ]
  },
  {
   "cell_type": "code",
   "execution_count": null,
   "metadata": {
    "collapsed": true
   },
   "outputs": [],
   "source": []
  },
  {
   "cell_type": "code",
   "execution_count": null,
   "metadata": {
    "collapsed": true
   },
   "outputs": [],
   "source": []
  }
 ],
 "metadata": {
  "kernelspec": {
   "display_name": "Python 3",
   "language": "python",
   "name": "python3"
  },
  "language_info": {
   "codemirror_mode": {
    "name": "ipython",
    "version": 3
   },
   "file_extension": ".py",
   "mimetype": "text/x-python",
   "name": "python",
   "nbconvert_exporter": "python",
   "pygments_lexer": "ipython3",
   "version": "3.6.4"
  }
 },
 "nbformat": 4,
 "nbformat_minor": 2
}
